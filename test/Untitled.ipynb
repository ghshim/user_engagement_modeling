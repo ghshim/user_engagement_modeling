{
 "cells": [
  {
   "cell_type": "code",
   "execution_count": 89,
   "id": "780daedc",
   "metadata": {},
   "outputs": [],
   "source": [
    "import numpy as np\n",
    "import pandas as pd"
   ]
  },
  {
   "cell_type": "code",
   "execution_count": 95,
   "id": "09219deb",
   "metadata": {},
   "outputs": [
    {
     "name": "stdout",
     "output_type": "stream",
     "text": [
      "<class 'pandas.core.frame.DataFrame'>\n",
      "RangeIndex: 3064 entries, 0 to 3063\n",
      "Data columns (total 17 columns):\n",
      " #   Column       Non-Null Count  Dtype  \n",
      "---  ------       --------------  -----  \n",
      " 0   No.          2688 non-null   float64\n",
      " 1   날짜           2997 non-null   object \n",
      " 2   태깅 데이터 파일명   2997 non-null   object \n",
      " 3   이름           2688 non-null   object \n",
      " 4   위치           2688 non-null   float64\n",
      " 5   기간           2688 non-null   float64\n",
      " 6   appearance   0 non-null      float64\n",
      " 7   A/C          2688 non-null   object \n",
      " 8   behavior     2688 non-null   object \n",
      " 9   code         2687 non-null   object \n",
      " 10  M/F          2688 non-null   object \n",
      " 11  외형           2688 non-null   object \n",
      " 12  Unnamed: 12  0 non-null      float64\n",
      " 13  Unnamed: 13  0 non-null      float64\n",
      " 14  Unnamed: 14  0 non-null      float64\n",
      " 15  Unnamed: 15  0 non-null      float64\n",
      " 16  Unnamed: 16  0 non-null      float64\n",
      "dtypes: float64(9), object(8)\n",
      "memory usage: 407.1+ KB\n"
     ]
    }
   ],
   "source": [
    "df = pd.read_csv('./data/exhibition_behavior.csv', delimiter=',')\n",
    "df.info()"
   ]
  },
  {
   "cell_type": "code",
   "execution_count": 97,
   "id": "78e123ca",
   "metadata": {},
   "outputs": [],
   "source": [
    "df = df.drop([\"Unnamed: 12\", \"Unnamed: 13\", \"Unnamed: 14\", \"Unnamed: 15\", \"Unnamed: 16\"], axis=1)"
   ]
  },
  {
   "cell_type": "code",
   "execution_count": 101,
   "id": "1ad4452e",
   "metadata": {},
   "outputs": [],
   "source": [
    "df = df.drop(columns=['appearance'])"
   ]
  },
  {
   "cell_type": "code",
   "execution_count": 104,
   "id": "5b2cdbbb",
   "metadata": {},
   "outputs": [],
   "source": [
    "df = df.dropna()"
   ]
  },
  {
   "cell_type": "code",
   "execution_count": 113,
   "id": "d014fefa",
   "metadata": {},
   "outputs": [],
   "source": [
    "df = df.astype({'No.':'int64', '위치':'int64', '기간':'int64'})"
   ]
  },
  {
   "cell_type": "code",
   "execution_count": 115,
   "id": "984c1853",
   "metadata": {},
   "outputs": [
    {
     "name": "stdout",
     "output_type": "stream",
     "text": [
      "<class 'pandas.core.frame.DataFrame'>\n",
      "Int64Index: 2687 entries, 1 to 3063\n",
      "Data columns (total 11 columns):\n",
      " #   Column      Non-Null Count  Dtype \n",
      "---  ------      --------------  ----- \n",
      " 0   No.         2687 non-null   int64 \n",
      " 1   날짜          2687 non-null   object\n",
      " 2   태깅 데이터 파일명  2687 non-null   object\n",
      " 3   이름          2687 non-null   object\n",
      " 4   위치          2687 non-null   int64 \n",
      " 5   기간          2687 non-null   int64 \n",
      " 6   A/C         2687 non-null   object\n",
      " 7   behavior    2687 non-null   object\n",
      " 8   code        2687 non-null   object\n",
      " 9   M/F         2687 non-null   object\n",
      " 10  외형          2687 non-null   object\n",
      "dtypes: int64(3), object(8)\n",
      "memory usage: 251.9+ KB\n"
     ]
    }
   ],
   "source": [
    "df.info()"
   ]
  },
  {
   "cell_type": "code",
   "execution_count": 120,
   "id": "70e5955b",
   "metadata": {},
   "outputs": [],
   "source": [
    "df = df.drop(columns=['이름'])"
   ]
  },
  {
   "cell_type": "code",
   "execution_count": 121,
   "id": "aaa0cf58",
   "metadata": {},
   "outputs": [],
   "source": [
    "df = df.rename(columns={'No.':'uid', '날짜':'date', '태깅 데이터 파일명':'filename', '위치':'start', '기간':'duration', '외형':'appearance'})"
   ]
  },
  {
   "cell_type": "code",
   "execution_count": 122,
   "id": "0300840a",
   "metadata": {},
   "outputs": [
    {
     "data": {
      "text/html": [
       "<div>\n",
       "<style scoped>\n",
       "    .dataframe tbody tr th:only-of-type {\n",
       "        vertical-align: middle;\n",
       "    }\n",
       "\n",
       "    .dataframe tbody tr th {\n",
       "        vertical-align: top;\n",
       "    }\n",
       "\n",
       "    .dataframe thead th {\n",
       "        text-align: right;\n",
       "    }\n",
       "</style>\n",
       "<table border=\"1\" class=\"dataframe\">\n",
       "  <thead>\n",
       "    <tr style=\"text-align: right;\">\n",
       "      <th></th>\n",
       "      <th>uid</th>\n",
       "      <th>date</th>\n",
       "      <th>filename</th>\n",
       "      <th>start</th>\n",
       "      <th>duration</th>\n",
       "      <th>A/C</th>\n",
       "      <th>behavior</th>\n",
       "      <th>code</th>\n",
       "      <th>M/F</th>\n",
       "      <th>appearance</th>\n",
       "    </tr>\n",
       "  </thead>\n",
       "  <tbody>\n",
       "    <tr>\n",
       "      <th>1</th>\n",
       "      <td>1</td>\n",
       "      <td>11월 19일</td>\n",
       "      <td>01_20221119085958_part2</td>\n",
       "      <td>56240</td>\n",
       "      <td>2720</td>\n",
       "      <td>Child</td>\n",
       "      <td>물리적거리</td>\n",
       "      <td>Approach</td>\n",
       "      <td>Female</td>\n",
       "      <td>포니테일, 아이보리색 점퍼, 검정색 바지</td>\n",
       "    </tr>\n",
       "    <tr>\n",
       "      <th>2</th>\n",
       "      <td>1</td>\n",
       "      <td>11월 19일</td>\n",
       "      <td>01_20221119085958_part2</td>\n",
       "      <td>59360</td>\n",
       "      <td>2960</td>\n",
       "      <td>Child</td>\n",
       "      <td>상호작용시도</td>\n",
       "      <td>None</td>\n",
       "      <td>Female</td>\n",
       "      <td>포니테일, 아이보리색 점퍼, 검정색 바지</td>\n",
       "    </tr>\n",
       "    <tr>\n",
       "      <th>3</th>\n",
       "      <td>1</td>\n",
       "      <td>11월 19일</td>\n",
       "      <td>01_20221119085958_part2</td>\n",
       "      <td>71420</td>\n",
       "      <td>5520</td>\n",
       "      <td>Child</td>\n",
       "      <td>물리적거리</td>\n",
       "      <td>Approach</td>\n",
       "      <td>Female</td>\n",
       "      <td>포니테일, 아이보리색 점퍼, 검정색 바지</td>\n",
       "    </tr>\n",
       "    <tr>\n",
       "      <th>4</th>\n",
       "      <td>1</td>\n",
       "      <td>11월 19일</td>\n",
       "      <td>01_20221119085958_part2</td>\n",
       "      <td>77400</td>\n",
       "      <td>6320</td>\n",
       "      <td>Child</td>\n",
       "      <td>상호작용시도</td>\n",
       "      <td>None</td>\n",
       "      <td>Female</td>\n",
       "      <td>포니테일, 아이보리색 점퍼, 검정색 바지</td>\n",
       "    </tr>\n",
       "    <tr>\n",
       "      <th>6</th>\n",
       "      <td>2</td>\n",
       "      <td>11월 19일</td>\n",
       "      <td>01_20221119085958_part2</td>\n",
       "      <td>48240</td>\n",
       "      <td>9240</td>\n",
       "      <td>Child</td>\n",
       "      <td>물리적거리</td>\n",
       "      <td>Approach</td>\n",
       "      <td>Male</td>\n",
       "      <td>검정색 점퍼, 청바지, 검정/흰색 운동화</td>\n",
       "    </tr>\n",
       "    <tr>\n",
       "      <th>...</th>\n",
       "      <td>...</td>\n",
       "      <td>...</td>\n",
       "      <td>...</td>\n",
       "      <td>...</td>\n",
       "      <td>...</td>\n",
       "      <td>...</td>\n",
       "      <td>...</td>\n",
       "      <td>...</td>\n",
       "      <td>...</td>\n",
       "      <td>...</td>\n",
       "    </tr>\n",
       "    <tr>\n",
       "      <th>3056</th>\n",
       "      <td>372</td>\n",
       "      <td>12월 4일</td>\n",
       "      <td>01_20221204165959_part1</td>\n",
       "      <td>2567280</td>\n",
       "      <td>17280</td>\n",
       "      <td>Child</td>\n",
       "      <td>물리적거리</td>\n",
       "      <td>Pass</td>\n",
       "      <td>Female</td>\n",
       "      <td>하늘색 롱패딩, 흰색 바지</td>\n",
       "    </tr>\n",
       "    <tr>\n",
       "      <th>3057</th>\n",
       "      <td>372</td>\n",
       "      <td>12월 4일</td>\n",
       "      <td>01_20221204165959_part1</td>\n",
       "      <td>2893760</td>\n",
       "      <td>14160</td>\n",
       "      <td>Child</td>\n",
       "      <td>물리적거리</td>\n",
       "      <td>Pass</td>\n",
       "      <td>Female</td>\n",
       "      <td>하늘색 롱패딩, 흰색 바지</td>\n",
       "    </tr>\n",
       "    <tr>\n",
       "      <th>3059</th>\n",
       "      <td>373</td>\n",
       "      <td>12월 4일</td>\n",
       "      <td>01_20221204165959_part1</td>\n",
       "      <td>2567280</td>\n",
       "      <td>18080</td>\n",
       "      <td>Adult</td>\n",
       "      <td>물리적거리</td>\n",
       "      <td>Pass</td>\n",
       "      <td>Male</td>\n",
       "      <td>검은색 롱패딩, 검은색 바지</td>\n",
       "    </tr>\n",
       "    <tr>\n",
       "      <th>3061</th>\n",
       "      <td>374</td>\n",
       "      <td>12월 4일</td>\n",
       "      <td>01_20221204165959_part2</td>\n",
       "      <td>15760</td>\n",
       "      <td>13840</td>\n",
       "      <td>Child</td>\n",
       "      <td>물리적거리</td>\n",
       "      <td>Pass</td>\n",
       "      <td>Female</td>\n",
       "      <td>하늘색 롱패딩, 흰색 바지</td>\n",
       "    </tr>\n",
       "    <tr>\n",
       "      <th>3063</th>\n",
       "      <td>375</td>\n",
       "      <td>12월 4일</td>\n",
       "      <td>01_20221204165959_part2</td>\n",
       "      <td>404640</td>\n",
       "      <td>7280</td>\n",
       "      <td>Adult</td>\n",
       "      <td>물리적거리</td>\n",
       "      <td>Pass</td>\n",
       "      <td>Male</td>\n",
       "      <td>검은색 롱패딩, 검은색 바지</td>\n",
       "    </tr>\n",
       "  </tbody>\n",
       "</table>\n",
       "<p>2687 rows × 10 columns</p>\n",
       "</div>"
      ],
      "text/plain": [
       "      uid     date                 filename    start  duration    A/C  \\\n",
       "1       1  11월 19일  01_20221119085958_part2    56240      2720  Child   \n",
       "2       1  11월 19일  01_20221119085958_part2    59360      2960  Child   \n",
       "3       1  11월 19일  01_20221119085958_part2    71420      5520  Child   \n",
       "4       1  11월 19일  01_20221119085958_part2    77400      6320  Child   \n",
       "6       2  11월 19일  01_20221119085958_part2    48240      9240  Child   \n",
       "...   ...      ...                      ...      ...       ...    ...   \n",
       "3056  372   12월 4일  01_20221204165959_part1  2567280     17280  Child   \n",
       "3057  372   12월 4일  01_20221204165959_part1  2893760     14160  Child   \n",
       "3059  373   12월 4일  01_20221204165959_part1  2567280     18080  Adult   \n",
       "3061  374   12월 4일  01_20221204165959_part2    15760     13840  Child   \n",
       "3063  375   12월 4일  01_20221204165959_part2   404640      7280  Adult   \n",
       "\n",
       "     behavior      code     M/F              appearance  \n",
       "1       물리적거리  Approach  Female  포니테일, 아이보리색 점퍼, 검정색 바지  \n",
       "2      상호작용시도      None  Female  포니테일, 아이보리색 점퍼, 검정색 바지  \n",
       "3       물리적거리  Approach  Female  포니테일, 아이보리색 점퍼, 검정색 바지  \n",
       "4      상호작용시도      None  Female  포니테일, 아이보리색 점퍼, 검정색 바지  \n",
       "6       물리적거리  Approach    Male  검정색 점퍼, 청바지, 검정/흰색 운동화  \n",
       "...       ...       ...     ...                     ...  \n",
       "3056    물리적거리      Pass  Female          하늘색 롱패딩, 흰색 바지  \n",
       "3057    물리적거리      Pass  Female          하늘색 롱패딩, 흰색 바지  \n",
       "3059    물리적거리      Pass    Male         검은색 롱패딩, 검은색 바지  \n",
       "3061    물리적거리      Pass  Female          하늘색 롱패딩, 흰색 바지  \n",
       "3063    물리적거리      Pass    Male         검은색 롱패딩, 검은색 바지  \n",
       "\n",
       "[2687 rows x 10 columns]"
      ]
     },
     "execution_count": 122,
     "metadata": {},
     "output_type": "execute_result"
    }
   ],
   "source": [
    "df"
   ]
  },
  {
   "cell_type": "code",
   "execution_count": 123,
   "id": "79c6619c",
   "metadata": {},
   "outputs": [],
   "source": [
    "df.to_csv('./data/exhibition_behavior_preprocessed.csv')"
   ]
  },
  {
   "cell_type": "code",
   "execution_count": 1,
   "id": "2bd55b6d",
   "metadata": {},
   "outputs": [
    {
     "ename": "NameError",
     "evalue": "name 'df' is not defined",
     "output_type": "error",
     "traceback": [
      "\u001b[0;31m---------------------------------------------------------------------------\u001b[0m",
      "\u001b[0;31mNameError\u001b[0m                                 Traceback (most recent call last)",
      "Cell \u001b[0;32mIn[1], line 1\u001b[0m\n\u001b[0;32m----> 1\u001b[0m \u001b[38;5;28;01mfor\u001b[39;00m i \u001b[38;5;129;01min\u001b[39;00m \u001b[43mdf\u001b[49m[\u001b[38;5;124m'\u001b[39m\u001b[38;5;124mengagement_score\u001b[39m\u001b[38;5;124m'\u001b[39m]:\n\u001b[1;32m      2\u001b[0m     \u001b[38;5;28;01mif\u001b[39;00m i \u001b[38;5;129;01mis\u001b[39;00m NaN:\n\u001b[1;32m      3\u001b[0m         \u001b[38;5;28mprint\u001b[39m(i)\n",
      "\u001b[0;31mNameError\u001b[0m: name 'df' is not defined"
     ]
    }
   ],
   "source": []
  },
  {
   "cell_type": "code",
   "execution_count": null,
   "id": "e17968e9",
   "metadata": {},
   "outputs": [],
   "source": []
  }
 ],
 "metadata": {
  "kernelspec": {
   "display_name": "Python 3 (ipykernel)",
   "language": "python",
   "name": "python3"
  },
  "language_info": {
   "codemirror_mode": {
    "name": "ipython",
    "version": 3
   },
   "file_extension": ".py",
   "mimetype": "text/x-python",
   "name": "python",
   "nbconvert_exporter": "python",
   "pygments_lexer": "ipython3",
   "version": "3.10.9"
  }
 },
 "nbformat": 4,
 "nbformat_minor": 5
}
