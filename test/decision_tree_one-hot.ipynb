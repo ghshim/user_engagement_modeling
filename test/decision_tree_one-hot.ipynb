{
 "cells": [
  {
   "cell_type": "code",
   "execution_count": 364,
   "id": "c9fc7ce1",
   "metadata": {},
   "outputs": [],
   "source": [
    "import pandas as pd\n",
    "import numpy as np\n",
    "import matplotlib as plt\n",
    "from sklearn.preprocessing import LabelEncoder, OneHotEncoder\n",
    "from sklearn.tree import DecisionTreeClassifier\n",
    "from sklearn.model_selection import train_test_split\n",
    "from sklearn.metrics import accuracy_score\n",
    "from sklearn.utils.class_weight import compute_class_weight\n",
    "from sklearn.tree import export_graphviz\n",
    "import graphviz\n",
    "import ast\n",
    "import warnings\n",
    "warnings.filterwarnings('ignore')"
   ]
  },
  {
   "cell_type": "code",
   "execution_count": 356,
   "id": "4d62ec0c",
   "metadata": {},
   "outputs": [],
   "source": [
    "behavior = pd.read_csv('./data/behavior_reduced.csv', delimiter=',', index_col=False)"
   ]
  },
  {
   "cell_type": "code",
   "execution_count": 357,
   "id": "abe01e08",
   "metadata": {},
   "outputs": [
    {
     "data": {
      "text/plain": [
       "689"
      ]
     },
     "execution_count": 357,
     "metadata": {},
     "output_type": "execute_result"
    }
   ],
   "source": [
    "len(behavior)"
   ]
  },
  {
   "cell_type": "code",
   "execution_count": 358,
   "id": "4360c406",
   "metadata": {},
   "outputs": [],
   "source": [
    "behavior.drop(columns=['pid', 'engagement_score', 'norm_engagement_score'], inplace=True)"
   ]
  },
  {
   "cell_type": "code",
   "execution_count": 359,
   "id": "ca93d533",
   "metadata": {},
   "outputs": [],
   "source": [
    "behavior['code'] = behavior['code'].apply(lambda x: ast.literal_eval(x))"
   ]
  },
  {
   "cell_type": "code",
   "execution_count": 360,
   "id": "75de8ffa",
   "metadata": {},
   "outputs": [],
   "source": [
    "behavior = behavior[~behavior['code'].apply(lambda x: x[0] in ['Avoid', 'Follow', 'Pass'])]"
   ]
  },
  {
   "cell_type": "code",
   "execution_count": 361,
   "id": "cd28accd",
   "metadata": {},
   "outputs": [
    {
     "data": {
      "text/plain": [
       "658"
      ]
     },
     "execution_count": 361,
     "metadata": {},
     "output_type": "execute_result"
    }
   ],
   "source": [
    "len(behavior)"
   ]
  },
  {
   "cell_type": "code",
   "execution_count": 281,
   "id": "16f13dcd",
   "metadata": {},
   "outputs": [],
   "source": [
    "def code_one_hot_encoding(df):\n",
    "    # 행동 코드 리스트\n",
    "    actions = ['Approach', 'None', 'Touch', 'Gesture']\n",
    "\n",
    "    # 각각의 sublist를 one-hot encoding하여 다차원 리스트로 생성\n",
    "    one_hot_data = []\n",
    "    for sublist in df['code']:\n",
    "        one_hot_sublist = np.zeros((len(sublist), len(actions)))\n",
    "        for i, code in enumerate(sublist):\n",
    "            index = actions.index(code)\n",
    "            one_hot_sublist[i][index] = 1\n",
    "        one_hot_data.append(one_hot_sublist)\n",
    "    \n",
    "    df['encoded_code'] = one_hot_data\n",
    "    df['encoded_code'] = df[['encoded_code']].apply(lambda x: [np.array(item).astype(int) for item in x])\n",
    "\n",
    "    return df"
   ]
  },
  {
   "cell_type": "code",
   "execution_count": 282,
   "id": "3b60c832",
   "metadata": {},
   "outputs": [],
   "source": [
    "def code_one_hot_decimal_encoding(df):\n",
    "    actions = ['Approach', 'None', 'Touch', 'Gesture']\n",
    "    encoded_data = []\n",
    "\n",
    "    for sequence in df['code']:\n",
    "        encoded_sequence = []\n",
    "        for action in sequence:\n",
    "            one_hot = [int(action == a) for a in actions]\n",
    "            decimal = int(''.join(map(str, one_hot)), 2)\n",
    "            encoded_sequence.append(decimal)\n",
    "        encoded_data.append(encoded_sequence)\n",
    "\n",
    "    df['encoded_code'] = encoded_data\n",
    "    \n",
    "    return df"
   ]
  },
  {
   "cell_type": "code",
   "execution_count": 315,
   "id": "991265be",
   "metadata": {},
   "outputs": [],
   "source": [
    "def padding_encoding_data(df, col_name):\n",
    "    max_length = max(map(len, df[col_name]))  # 가장 긴 sequence의 길이 구하기\n",
    "\n",
    "    padded_encoded_code = []\n",
    "    for encoded_code in df[col_name]:\n",
    "        # 가장 긴 sequence 길이를 기준으로 padding 적용\n",
    "        padded_encoded_code.append(encoded_code + [0] * (max_length - len(encoded_code)))\n",
    "    \n",
    "#     # 모든 리스트를 동일한 길이의 1D 배열로 변환\n",
    "#     padded_encoded_code_np = np.array([np.array(x) for x in padded_encoded_code])\n",
    "\n",
    "#     # 2D Numpy 배열 생성\n",
    "#     padded_encoded_code_np_2d = np.vstack(padded_encoded_code_np)\n",
    "    \n",
    "    df[col_name] = padded_encoded_code\n",
    "    df[col_name] = df[col_name].apply(lambda x: ''.join(str(i) for i in x))\n",
    "\n",
    "    return df"
   ]
  },
  {
   "cell_type": "code",
   "execution_count": 316,
   "id": "5ce8f8d1",
   "metadata": {},
   "outputs": [],
   "source": [
    "behavior = code_one_hot_decimal_encoding(behavior)\n",
    "behavior = padding_encoding_data(behavior, \"encoded_code\")"
   ]
  },
  {
   "cell_type": "code",
   "execution_count": 284,
   "id": "36bd935a",
   "metadata": {},
   "outputs": [],
   "source": [
    "behavior['encoded_code'] = behavior['encoded_code'].tolist()"
   ]
  },
  {
   "cell_type": "code",
   "execution_count": 292,
   "id": "d24649f8",
   "metadata": {},
   "outputs": [],
   "source": [
    "# behavior['duration'] = behavior['duration'].apply(lambda x: ast.literal_eval(x))\n",
    "behavior['duration_sum'] = behavior['duration'].apply(lambda x: sum(x))"
   ]
  },
  {
   "cell_type": "code",
   "execution_count": 317,
   "id": "2ba35bc4",
   "metadata": {},
   "outputs": [
    {
     "data": {
      "text/html": [
       "<div>\n",
       "<style scoped>\n",
       "    .dataframe tbody tr th:only-of-type {\n",
       "        vertical-align: middle;\n",
       "    }\n",
       "\n",
       "    .dataframe tbody tr th {\n",
       "        vertical-align: top;\n",
       "    }\n",
       "\n",
       "    .dataframe thead th {\n",
       "        text-align: right;\n",
       "    }\n",
       "</style>\n",
       "<table border=\"1\" class=\"dataframe\">\n",
       "  <thead>\n",
       "    <tr style=\"text-align: right;\">\n",
       "      <th></th>\n",
       "      <th>code</th>\n",
       "      <th>code_count</th>\n",
       "      <th>code_score</th>\n",
       "      <th>duration</th>\n",
       "      <th>time_ratio</th>\n",
       "      <th>A/C</th>\n",
       "      <th>M/F</th>\n",
       "      <th>appearance</th>\n",
       "      <th>engagement_level</th>\n",
       "      <th>encoded_code</th>\n",
       "      <th>duration_sum</th>\n",
       "    </tr>\n",
       "  </thead>\n",
       "  <tbody>\n",
       "    <tr>\n",
       "      <th>0</th>\n",
       "      <td>[Approach, None]</td>\n",
       "      <td>2</td>\n",
       "      <td>[3, 4]</td>\n",
       "      <td>[2720, 2960]</td>\n",
       "      <td>[0.4788732394366197, 0.5211267605633803]</td>\n",
       "      <td>Child</td>\n",
       "      <td>Female</td>\n",
       "      <td>포니테일, 아이보리색 점퍼, 검정색 바지</td>\n",
       "      <td>low</td>\n",
       "      <td>8400000000000000000000</td>\n",
       "      <td>5680</td>\n",
       "    </tr>\n",
       "    <tr>\n",
       "      <th>1</th>\n",
       "      <td>[Approach, None]</td>\n",
       "      <td>2</td>\n",
       "      <td>[3, 4]</td>\n",
       "      <td>[5520, 6320]</td>\n",
       "      <td>[0.46621621621621623, 0.5337837837837838]</td>\n",
       "      <td>Child</td>\n",
       "      <td>Female</td>\n",
       "      <td>포니테일, 아이보리색 점퍼, 검정색 바지</td>\n",
       "      <td>low</td>\n",
       "      <td>8400000000000000000000</td>\n",
       "      <td>11840</td>\n",
       "    </tr>\n",
       "    <tr>\n",
       "      <th>2</th>\n",
       "      <td>[Approach, None]</td>\n",
       "      <td>2</td>\n",
       "      <td>[3, 4]</td>\n",
       "      <td>[9240, 15600]</td>\n",
       "      <td>[0.3719806763285024, 0.6280193236714976]</td>\n",
       "      <td>Child</td>\n",
       "      <td>Male</td>\n",
       "      <td>검정색 점퍼, 청바지, 검정/흰색 운동화</td>\n",
       "      <td>low</td>\n",
       "      <td>8400000000000000000000</td>\n",
       "      <td>24840</td>\n",
       "    </tr>\n",
       "    <tr>\n",
       "      <th>3</th>\n",
       "      <td>[Approach, None]</td>\n",
       "      <td>2</td>\n",
       "      <td>[3, 4]</td>\n",
       "      <td>[5920, 6360]</td>\n",
       "      <td>[0.4820846905537459, 0.5179153094462541]</td>\n",
       "      <td>Child</td>\n",
       "      <td>Male</td>\n",
       "      <td>검정색 점퍼, 청바지, 검정/흰색 운동화</td>\n",
       "      <td>low</td>\n",
       "      <td>8400000000000000000000</td>\n",
       "      <td>12280</td>\n",
       "    </tr>\n",
       "    <tr>\n",
       "      <th>4</th>\n",
       "      <td>[Approach, None]</td>\n",
       "      <td>2</td>\n",
       "      <td>[3, 4]</td>\n",
       "      <td>[4160, 7760]</td>\n",
       "      <td>[0.348993288590604, 0.6510067114093959]</td>\n",
       "      <td>Child</td>\n",
       "      <td>Male</td>\n",
       "      <td>검정 마스크, 흰색 후리스, 회색 트레이닝 바지</td>\n",
       "      <td>low</td>\n",
       "      <td>8400000000000000000000</td>\n",
       "      <td>11920</td>\n",
       "    </tr>\n",
       "    <tr>\n",
       "      <th>...</th>\n",
       "      <td>...</td>\n",
       "      <td>...</td>\n",
       "      <td>...</td>\n",
       "      <td>...</td>\n",
       "      <td>...</td>\n",
       "      <td>...</td>\n",
       "      <td>...</td>\n",
       "      <td>...</td>\n",
       "      <td>...</td>\n",
       "      <td>...</td>\n",
       "      <td>...</td>\n",
       "    </tr>\n",
       "    <tr>\n",
       "      <th>684</th>\n",
       "      <td>[Approach, None, Gesture, None]</td>\n",
       "      <td>4</td>\n",
       "      <td>[3, 4, 5, 4]</td>\n",
       "      <td>[7680, 5200, 2800, 2400]</td>\n",
       "      <td>[0.4247787610619469, 0.28761061946902655, 0.15...</td>\n",
       "      <td>Child</td>\n",
       "      <td>Male</td>\n",
       "      <td>검은색 롱패딩, 검은색 바지</td>\n",
       "      <td>low</td>\n",
       "      <td>8414000000000000000000</td>\n",
       "      <td>18080</td>\n",
       "    </tr>\n",
       "    <tr>\n",
       "      <th>685</th>\n",
       "      <td>[Approach, None, Gesture, None, Gesture, None]</td>\n",
       "      <td>6</td>\n",
       "      <td>[3, 4, 5, 4, 5, 4]</td>\n",
       "      <td>[5360, 45360, 1840, 36400, 6320, 62800]</td>\n",
       "      <td>[0.03390688259109312, 0.28694331983805665, 0.0...</td>\n",
       "      <td>Child</td>\n",
       "      <td>Male</td>\n",
       "      <td>검은색 롱패딩, 검은색 바지</td>\n",
       "      <td>high</td>\n",
       "      <td>8414140000000000000000</td>\n",
       "      <td>158080</td>\n",
       "    </tr>\n",
       "    <tr>\n",
       "      <th>686</th>\n",
       "      <td>[Approach, None]</td>\n",
       "      <td>2</td>\n",
       "      <td>[3, 4]</td>\n",
       "      <td>[3840, 11680]</td>\n",
       "      <td>[0.24742268041237114, 0.7525773195876289]</td>\n",
       "      <td>Child</td>\n",
       "      <td>Male</td>\n",
       "      <td>검은색 롱패딩, 검은색 바지</td>\n",
       "      <td>low</td>\n",
       "      <td>8400000000000000000000</td>\n",
       "      <td>15520</td>\n",
       "    </tr>\n",
       "    <tr>\n",
       "      <th>687</th>\n",
       "      <td>[Approach, None]</td>\n",
       "      <td>2</td>\n",
       "      <td>[3, 4]</td>\n",
       "      <td>[4800, 16480]</td>\n",
       "      <td>[0.22556390977443608, 0.7744360902255639]</td>\n",
       "      <td>Child</td>\n",
       "      <td>Male</td>\n",
       "      <td>검은색 롱패딩, 검은색 바지</td>\n",
       "      <td>low</td>\n",
       "      <td>8400000000000000000000</td>\n",
       "      <td>21280</td>\n",
       "    </tr>\n",
       "    <tr>\n",
       "      <th>688</th>\n",
       "      <td>[Approach, Touch]</td>\n",
       "      <td>2</td>\n",
       "      <td>[3, 5]</td>\n",
       "      <td>[12640, 4800]</td>\n",
       "      <td>[0.7247706422018348, 0.27522935779816515]</td>\n",
       "      <td>Child</td>\n",
       "      <td>Male</td>\n",
       "      <td>갈색 후리스, 검은색 바지</td>\n",
       "      <td>low</td>\n",
       "      <td>8200000000000000000000</td>\n",
       "      <td>17440</td>\n",
       "    </tr>\n",
       "  </tbody>\n",
       "</table>\n",
       "<p>658 rows × 11 columns</p>\n",
       "</div>"
      ],
      "text/plain": [
       "                                               code  code_count  \\\n",
       "0                                  [Approach, None]           2   \n",
       "1                                  [Approach, None]           2   \n",
       "2                                  [Approach, None]           2   \n",
       "3                                  [Approach, None]           2   \n",
       "4                                  [Approach, None]           2   \n",
       "..                                              ...         ...   \n",
       "684                 [Approach, None, Gesture, None]           4   \n",
       "685  [Approach, None, Gesture, None, Gesture, None]           6   \n",
       "686                                [Approach, None]           2   \n",
       "687                                [Approach, None]           2   \n",
       "688                               [Approach, Touch]           2   \n",
       "\n",
       "             code_score                                 duration  \\\n",
       "0                [3, 4]                             [2720, 2960]   \n",
       "1                [3, 4]                             [5520, 6320]   \n",
       "2                [3, 4]                            [9240, 15600]   \n",
       "3                [3, 4]                             [5920, 6360]   \n",
       "4                [3, 4]                             [4160, 7760]   \n",
       "..                  ...                                      ...   \n",
       "684        [3, 4, 5, 4]                 [7680, 5200, 2800, 2400]   \n",
       "685  [3, 4, 5, 4, 5, 4]  [5360, 45360, 1840, 36400, 6320, 62800]   \n",
       "686              [3, 4]                            [3840, 11680]   \n",
       "687              [3, 4]                            [4800, 16480]   \n",
       "688              [3, 5]                            [12640, 4800]   \n",
       "\n",
       "                                            time_ratio    A/C     M/F  \\\n",
       "0             [0.4788732394366197, 0.5211267605633803]  Child  Female   \n",
       "1            [0.46621621621621623, 0.5337837837837838]  Child  Female   \n",
       "2             [0.3719806763285024, 0.6280193236714976]  Child    Male   \n",
       "3             [0.4820846905537459, 0.5179153094462541]  Child    Male   \n",
       "4              [0.348993288590604, 0.6510067114093959]  Child    Male   \n",
       "..                                                 ...    ...     ...   \n",
       "684  [0.4247787610619469, 0.28761061946902655, 0.15...  Child    Male   \n",
       "685  [0.03390688259109312, 0.28694331983805665, 0.0...  Child    Male   \n",
       "686          [0.24742268041237114, 0.7525773195876289]  Child    Male   \n",
       "687          [0.22556390977443608, 0.7744360902255639]  Child    Male   \n",
       "688          [0.7247706422018348, 0.27522935779816515]  Child    Male   \n",
       "\n",
       "                     appearance engagement_level            encoded_code  \\\n",
       "0        포니테일, 아이보리색 점퍼, 검정색 바지              low  8400000000000000000000   \n",
       "1        포니테일, 아이보리색 점퍼, 검정색 바지              low  8400000000000000000000   \n",
       "2        검정색 점퍼, 청바지, 검정/흰색 운동화              low  8400000000000000000000   \n",
       "3        검정색 점퍼, 청바지, 검정/흰색 운동화              low  8400000000000000000000   \n",
       "4    검정 마스크, 흰색 후리스, 회색 트레이닝 바지              low  8400000000000000000000   \n",
       "..                          ...              ...                     ...   \n",
       "684             검은색 롱패딩, 검은색 바지              low  8414000000000000000000   \n",
       "685             검은색 롱패딩, 검은색 바지             high  8414140000000000000000   \n",
       "686             검은색 롱패딩, 검은색 바지              low  8400000000000000000000   \n",
       "687             검은색 롱패딩, 검은색 바지              low  8400000000000000000000   \n",
       "688              갈색 후리스, 검은색 바지              low  8200000000000000000000   \n",
       "\n",
       "     duration_sum  \n",
       "0            5680  \n",
       "1           11840  \n",
       "2           24840  \n",
       "3           12280  \n",
       "4           11920  \n",
       "..            ...  \n",
       "684         18080  \n",
       "685        158080  \n",
       "686         15520  \n",
       "687         21280  \n",
       "688         17440  \n",
       "\n",
       "[658 rows x 11 columns]"
      ]
     },
     "execution_count": 317,
     "metadata": {},
     "output_type": "execute_result"
    }
   ],
   "source": [
    "behavior"
   ]
  },
  {
   "cell_type": "markdown",
   "id": "412ac9ca",
   "metadata": {},
   "source": [
    "# Decision Tree"
   ]
  },
  {
   "cell_type": "code",
   "execution_count": 319,
   "id": "9bfeaae9",
   "metadata": {},
   "outputs": [],
   "source": [
    "data = behavior[['encoded_code', 'duration_sum', 'code_count', 'engagement_level']]\n",
    "\n",
    "# DecicionTreeClassifier 생성\n",
    "dt_clf = DecisionTreeClassifier(random_state=156)\n",
    "# 학습/검증 데이터셋 나누기\n",
    "X_train, X_test, y_train, y_test = train_test_split(data.drop('engagement_level', axis=1), data['engagement_level'], test_size=0.2, random_state=42, stratify=data['engagement_level'])"
   ]
  },
  {
   "cell_type": "code",
   "execution_count": 320,
   "id": "fae19677",
   "metadata": {},
   "outputs": [
    {
     "data": {
      "text/html": [
       "<div>\n",
       "<style scoped>\n",
       "    .dataframe tbody tr th:only-of-type {\n",
       "        vertical-align: middle;\n",
       "    }\n",
       "\n",
       "    .dataframe tbody tr th {\n",
       "        vertical-align: top;\n",
       "    }\n",
       "\n",
       "    .dataframe thead th {\n",
       "        text-align: right;\n",
       "    }\n",
       "</style>\n",
       "<table border=\"1\" class=\"dataframe\">\n",
       "  <thead>\n",
       "    <tr style=\"text-align: right;\">\n",
       "      <th></th>\n",
       "      <th>encoded_code</th>\n",
       "      <th>duration_sum</th>\n",
       "      <th>code_count</th>\n",
       "    </tr>\n",
       "  </thead>\n",
       "  <tbody>\n",
       "    <tr>\n",
       "      <th>549</th>\n",
       "      <td>8240000000000000000000</td>\n",
       "      <td>18640</td>\n",
       "      <td>3</td>\n",
       "    </tr>\n",
       "    <tr>\n",
       "      <th>154</th>\n",
       "      <td>8420000000000000000000</td>\n",
       "      <td>38800</td>\n",
       "      <td>3</td>\n",
       "    </tr>\n",
       "    <tr>\n",
       "      <th>681</th>\n",
       "      <td>8400000000000000000000</td>\n",
       "      <td>16960</td>\n",
       "      <td>2</td>\n",
       "    </tr>\n",
       "    <tr>\n",
       "      <th>273</th>\n",
       "      <td>8400000000000000000000</td>\n",
       "      <td>33520</td>\n",
       "      <td>2</td>\n",
       "    </tr>\n",
       "    <tr>\n",
       "      <th>275</th>\n",
       "      <td>8400000000000000000000</td>\n",
       "      <td>19360</td>\n",
       "      <td>2</td>\n",
       "    </tr>\n",
       "    <tr>\n",
       "      <th>...</th>\n",
       "      <td>...</td>\n",
       "      <td>...</td>\n",
       "      <td>...</td>\n",
       "    </tr>\n",
       "    <tr>\n",
       "      <th>383</th>\n",
       "      <td>8240000000000000000000</td>\n",
       "      <td>11280</td>\n",
       "      <td>3</td>\n",
       "    </tr>\n",
       "    <tr>\n",
       "      <th>331</th>\n",
       "      <td>8400000000000000000000</td>\n",
       "      <td>32080</td>\n",
       "      <td>2</td>\n",
       "    </tr>\n",
       "    <tr>\n",
       "      <th>446</th>\n",
       "      <td>8400000000000000000000</td>\n",
       "      <td>5760</td>\n",
       "      <td>2</td>\n",
       "    </tr>\n",
       "    <tr>\n",
       "      <th>83</th>\n",
       "      <td>8400000000000000000000</td>\n",
       "      <td>139440</td>\n",
       "      <td>2</td>\n",
       "    </tr>\n",
       "    <tr>\n",
       "      <th>439</th>\n",
       "      <td>8400000000000000000000</td>\n",
       "      <td>34240</td>\n",
       "      <td>2</td>\n",
       "    </tr>\n",
       "  </tbody>\n",
       "</table>\n",
       "<p>132 rows × 3 columns</p>\n",
       "</div>"
      ],
      "text/plain": [
       "               encoded_code  duration_sum  code_count\n",
       "549  8240000000000000000000         18640           3\n",
       "154  8420000000000000000000         38800           3\n",
       "681  8400000000000000000000         16960           2\n",
       "273  8400000000000000000000         33520           2\n",
       "275  8400000000000000000000         19360           2\n",
       "..                      ...           ...         ...\n",
       "383  8240000000000000000000         11280           3\n",
       "331  8400000000000000000000         32080           2\n",
       "446  8400000000000000000000          5760           2\n",
       "83   8400000000000000000000        139440           2\n",
       "439  8400000000000000000000         34240           2\n",
       "\n",
       "[132 rows x 3 columns]"
      ]
     },
     "execution_count": 320,
     "metadata": {},
     "output_type": "execute_result"
    }
   ],
   "source": [
    "X_test"
   ]
  },
  {
   "cell_type": "code",
   "execution_count": 321,
   "id": "fb53bd84",
   "metadata": {},
   "outputs": [
    {
     "name": "stdout",
     "output_type": "stream",
     "text": [
      "Decision Tree 예측 정확도 : 0.8409\n",
      "\n",
      "DecisionTreeClassifier 기본 하이퍼파라미터:\n",
      " {'ccp_alpha': 0.0, 'class_weight': None, 'criterion': 'gini', 'max_depth': None, 'max_features': None, 'max_leaf_nodes': None, 'min_impurity_decrease': 0.0, 'min_samples_leaf': 1, 'min_samples_split': 2, 'min_weight_fraction_leaf': 0.0, 'random_state': 156, 'splitter': 'best'}\n"
     ]
    }
   ],
   "source": [
    "# DecisionTreeClassifier 학습\n",
    "dt_clf.fit(X_train, y_train)\n",
    "pred = dt_clf.predict(X_test)\n",
    "accuracy = accuracy_score(y_test, pred)\n",
    "print('Decision Tree 예측 정확도 : {0:.4f}'.format(accuracy))\n",
    "# DecisionTreeClassifier의 하이퍼 파리미터 추출\n",
    "print('\\nDecisionTreeClassifier 기본 하이퍼파라미터:\\n', dt_clf.get_params())"
   ]
  },
  {
   "cell_type": "code",
   "execution_count": 322,
   "id": "f69b41e0",
   "metadata": {},
   "outputs": [],
   "source": [
    "# export_graphviz( )의 호출 결과로 out_file로 지정된 tree.dot 파일을 생성함\n",
    "export_graphviz(dt_clf, out_file=\"tree_reduced.dot\", class_names = ['low', 'high'], \n",
    "                           feature_names = ['encoded_code', 'encoded_duration', 'code_count'], impurity=True, filled=True)"
   ]
  },
  {
   "cell_type": "code",
   "execution_count": 324,
   "id": "d2031a04",
   "metadata": {},
   "outputs": [
    {
     "name": "stdout",
     "output_type": "stream",
     "text": [
      "Feature Importances:\n",
      "[0.245 0.316 0.439]\n",
      "\n",
      "encoded_code: 0.245\n",
      "encoded_duration: 0.316\n",
      "code_count: 0.439\n"
     ]
    },
    {
     "data": {
      "text/plain": [
       "Text(0, 0.5, 'feature')"
      ]
     },
     "execution_count": 324,
     "metadata": {},
     "output_type": "execute_result"
    },
    {
     "data": {
      "image/png": "[encoded data removed]",
      "text/plain": [
       "<Figure size 640x480 with 1 Axes>"
      ]
     },
     "metadata": {},
     "output_type": "display_data"
    }
   ],
   "source": [
    "import seaborn as sns\n",
    "%matplotlib inline\n",
    "\n",
    "# feature importance 추출\n",
    "print(\"Feature Importances:\\n{0}\\n\".format(np.round(dt_clf.feature_importances_, 3)))\n",
    "\n",
    "# feature 별 feature importance 매핑\n",
    "for name, value in zip(['encoded_code', 'encoded_duration', 'code_count'], dt_clf.feature_importances_):\n",
    "    print('{0}: {1:.3f}'.format(name, value))\n",
    "    \n",
    "# feature importance 시각화\n",
    "g = sns.barplot(x=dt_clf.feature_importances_, y=['encoded_code', 'encoded_duration', 'code_count'])\n",
    "g.set_xlabel('feature importance', size=10)\n",
    "g.set_ylabel('feature', size=10)"
   ]
  },
  {
   "cell_type": "code",
   "execution_count": 325,
   "id": "e87a9ba4",
   "metadata": {},
   "outputs": [],
   "source": [
    "data = behavior[['encoded_code', 'engagement_level']]"
   ]
  },
  {
   "cell_type": "code",
   "execution_count": 326,
   "id": "d2ad28bd",
   "metadata": {},
   "outputs": [],
   "source": [
    "# DecicionTreeClassifier 생성\n",
    "dt_clf = DecisionTreeClassifier(random_state=156)\n",
    "# 학습/검증 데이터셋 나누기\n",
    "X_train, X_test, y_train, y_test = train_test_split(data.drop('engagement_level', axis=1), data['engagement_level'], test_size=0.2, random_state=42, stratify=data['engagement_level'])"
   ]
  },
  {
   "cell_type": "code",
   "execution_count": 327,
   "id": "48ff5d8d",
   "metadata": {},
   "outputs": [
    {
     "name": "stdout",
     "output_type": "stream",
     "text": [
      "Decision Tree 예측 정확도 : 0.8636\n",
      "\n",
      "DecisionTreeClassifier 기본 하이퍼파라미터:\n",
      " {'ccp_alpha': 0.0, 'class_weight': None, 'criterion': 'gini', 'max_depth': None, 'max_features': None, 'max_leaf_nodes': None, 'min_impurity_decrease': 0.0, 'min_samples_leaf': 1, 'min_samples_split': 2, 'min_weight_fraction_leaf': 0.0, 'random_state': 156, 'splitter': 'best'}\n"
     ]
    }
   ],
   "source": [
    "# DecisionTreeClassifier 학습\n",
    "dt_clf.fit(X_train, y_train)\n",
    "pred = dt_clf.predict(X_test)\n",
    "accuracy = accuracy_score(y_test, pred)\n",
    "print('Decision Tree 예측 정확도 : {0:.4f}'.format(accuracy))\n",
    "# DecisionTreeClassifier의 하이퍼 파리미터 추출\n",
    "print('\\nDecisionTreeClassifier 기본 하이퍼파라미터:\\n', dt_clf.get_params())"
   ]
  },
  {
   "cell_type": "code",
   "execution_count": 328,
   "id": "1660eede",
   "metadata": {},
   "outputs": [],
   "source": [
    "# export_graphviz( )의 호출 결과로 out_file로 지정된 tree.dot 파일을 생성함\n",
    "export_graphviz(dt_clf, out_file=\"tree_reduced2.dot\", class_names = ['low', 'high'], \n",
    "                           feature_names = ['encoded_code'], impurity=True, filled=True)"
   ]
  },
  {
   "cell_type": "code",
   "execution_count": 330,
   "id": "c49df083",
   "metadata": {},
   "outputs": [
    {
     "name": "stdout",
     "output_type": "stream",
     "text": [
      "Feature Importances:\n",
      "[1.]\n",
      "\n",
      "encoded_code: 1.000\n"
     ]
    },
    {
     "data": {
      "text/plain": [
       "Text(0, 0.5, 'feature')"
      ]
     },
     "execution_count": 330,
     "metadata": {},
     "output_type": "execute_result"
    },
    {
     "data": {
      "image/png": "[encoded data removed]",
      "text/plain": [
       "<Figure size 640x480 with 1 Axes>"
      ]
     },
     "metadata": {},
     "output_type": "display_data"
    }
   ],
   "source": [
    "import seaborn as sns\n",
    "%matplotlib inline\n",
    "\n",
    "# feature importance 추출\n",
    "print(\"Feature Importances:\\n{0}\\n\".format(np.round(dt_clf.feature_importances_, 3)))\n",
    "\n",
    "# feature 별 feature importance 매핑\n",
    "for name, value in zip(['encoded_code'], dt_clf.feature_importances_):\n",
    "    print('{0}: {1:.3f}'.format(name, value))\n",
    "    \n",
    "# feature importance 시각화\n",
    "g = sns.barplot(x=dt_clf.feature_importances_, y=['encoded_code'])\n",
    "g.set_xlabel('feature importance', size=10)\n",
    "g.set_ylabel('feature', size=10)"
   ]
  },
  {
   "cell_type": "code",
   "execution_count": 366,
   "id": "a9424e81",
   "metadata": {},
   "outputs": [
    {
     "data": {
      "text/html": [
       "<div>\n",
       "<style scoped>\n",
       "    .dataframe tbody tr th:only-of-type {\n",
       "        vertical-align: middle;\n",
       "    }\n",
       "\n",
       "    .dataframe tbody tr th {\n",
       "        vertical-align: top;\n",
       "    }\n",
       "\n",
       "    .dataframe thead th {\n",
       "        text-align: right;\n",
       "    }\n",
       "</style>\n",
       "<table border=\"1\" class=\"dataframe\">\n",
       "  <thead>\n",
       "    <tr style=\"text-align: right;\">\n",
       "      <th></th>\n",
       "      <th>encoded_code</th>\n",
       "      <th>duration_sum</th>\n",
       "      <th>code_count</th>\n",
       "      <th>engagement_level</th>\n",
       "    </tr>\n",
       "  </thead>\n",
       "  <tbody>\n",
       "    <tr>\n",
       "      <th>0</th>\n",
       "      <td>8400000000000000000000</td>\n",
       "      <td>5680</td>\n",
       "      <td>2</td>\n",
       "      <td>low</td>\n",
       "    </tr>\n",
       "    <tr>\n",
       "      <th>1</th>\n",
       "      <td>8400000000000000000000</td>\n",
       "      <td>11840</td>\n",
       "      <td>2</td>\n",
       "      <td>low</td>\n",
       "    </tr>\n",
       "    <tr>\n",
       "      <th>2</th>\n",
       "      <td>8400000000000000000000</td>\n",
       "      <td>24840</td>\n",
       "      <td>2</td>\n",
       "      <td>low</td>\n",
       "    </tr>\n",
       "    <tr>\n",
       "      <th>3</th>\n",
       "      <td>8400000000000000000000</td>\n",
       "      <td>12280</td>\n",
       "      <td>2</td>\n",
       "      <td>low</td>\n",
       "    </tr>\n",
       "    <tr>\n",
       "      <th>4</th>\n",
       "      <td>8400000000000000000000</td>\n",
       "      <td>11920</td>\n",
       "      <td>2</td>\n",
       "      <td>low</td>\n",
       "    </tr>\n",
       "    <tr>\n",
       "      <th>...</th>\n",
       "      <td>...</td>\n",
       "      <td>...</td>\n",
       "      <td>...</td>\n",
       "      <td>...</td>\n",
       "    </tr>\n",
       "    <tr>\n",
       "      <th>684</th>\n",
       "      <td>8414000000000000000000</td>\n",
       "      <td>18080</td>\n",
       "      <td>4</td>\n",
       "      <td>low</td>\n",
       "    </tr>\n",
       "    <tr>\n",
       "      <th>685</th>\n",
       "      <td>8414140000000000000000</td>\n",
       "      <td>158080</td>\n",
       "      <td>6</td>\n",
       "      <td>high</td>\n",
       "    </tr>\n",
       "    <tr>\n",
       "      <th>686</th>\n",
       "      <td>8400000000000000000000</td>\n",
       "      <td>15520</td>\n",
       "      <td>2</td>\n",
       "      <td>low</td>\n",
       "    </tr>\n",
       "    <tr>\n",
       "      <th>687</th>\n",
       "      <td>8400000000000000000000</td>\n",
       "      <td>21280</td>\n",
       "      <td>2</td>\n",
       "      <td>low</td>\n",
       "    </tr>\n",
       "    <tr>\n",
       "      <th>688</th>\n",
       "      <td>8200000000000000000000</td>\n",
       "      <td>17440</td>\n",
       "      <td>2</td>\n",
       "      <td>low</td>\n",
       "    </tr>\n",
       "  </tbody>\n",
       "</table>\n",
       "<p>658 rows × 4 columns</p>\n",
       "</div>"
      ],
      "text/plain": [
       "               encoded_code  duration_sum  code_count engagement_level\n",
       "0    8400000000000000000000          5680           2              low\n",
       "1    8400000000000000000000         11840           2              low\n",
       "2    8400000000000000000000         24840           2              low\n",
       "3    8400000000000000000000         12280           2              low\n",
       "4    8400000000000000000000         11920           2              low\n",
       "..                      ...           ...         ...              ...\n",
       "684  8414000000000000000000         18080           4              low\n",
       "685  8414140000000000000000        158080           6             high\n",
       "686  8400000000000000000000         15520           2              low\n",
       "687  8400000000000000000000         21280           2              low\n",
       "688  8200000000000000000000         17440           2              low\n",
       "\n",
       "[658 rows x 4 columns]"
      ]
     },
     "execution_count": 366,
     "metadata": {},
     "output_type": "execute_result"
    }
   ],
   "source": [
    "data"
   ]
  },
  {
   "cell_type": "code",
   "execution_count": 367,
   "id": "b07be49e",
   "metadata": {},
   "outputs": [],
   "source": [
    "# data = behavior[['encoded_code', 'duration_sum', 'code_count', 'engagement_level']]\n",
    "\n",
    "# DecicionTreeClassifier 생성\n",
    "dt_clf = DecisionTreeClassifier(random_state=156, max_depth=5, min_samples_split=3, criterion='entropy')\n",
    "\n",
    "# 학습/검증 데이터셋 나누기\n",
    "X_train, X_test, y_train, y_test = train_test_split(data.drop('engagement_level', axis=1), data['engagement_level'], test_size=0.2, random_state=42, stratify=data['engagement_level'])"
   ]
  },
  {
   "cell_type": "code",
   "execution_count": 368,
   "id": "0d256a03",
   "metadata": {},
   "outputs": [
    {
     "name": "stdout",
     "output_type": "stream",
     "text": [
      "Decision Tree 예측 정확도 : 0.8485\n",
      "\n",
      "DecisionTreeClassifier 기본 하이퍼파라미터:\n",
      " {'ccp_alpha': 0.0, 'class_weight': None, 'criterion': 'entropy', 'max_depth': 5, 'max_features': None, 'max_leaf_nodes': None, 'min_impurity_decrease': 0.0, 'min_samples_leaf': 1, 'min_samples_split': 3, 'min_weight_fraction_leaf': 0.0, 'random_state': 156, 'splitter': 'best'}\n"
     ]
    }
   ],
   "source": [
    "# DecisionTreeClassifier 학습\n",
    "dt_clf.fit(X_train, y_train)\n",
    "pred = dt_clf.predict(X_test)\n",
    "accuracy = accuracy_score(y_test, pred)\n",
    "print('Decision Tree 예측 정확도 : {0:.4f}'.format(accuracy))\n",
    "# DecisionTreeClassifier의 하이퍼 파리미터 추출\n",
    "print('\\nDecisionTreeClassifier 기본 하이퍼파라미터:\\n', dt_clf.get_params())"
   ]
  },
  {
   "cell_type": "code",
   "execution_count": 369,
   "id": "79320bde",
   "metadata": {},
   "outputs": [
    {
     "name": "stdout",
     "output_type": "stream",
     "text": [
      "Feature Importances:\n",
      "[0.357 0.152 0.491]\n",
      "\n",
      "encoded_code: 0.357\n",
      "duration_sum: 0.152\n",
      "code_count: 0.491\n"
     ]
    },
    {
     "data": {
      "text/plain": [
       "Text(0, 0.5, 'feature')"
      ]
     },
     "execution_count": 369,
     "metadata": {},
     "output_type": "execute_result"
    },
    {
     "data": {
      "image/png": "[encoded data removed]",
      "text/plain": [
       "<Figure size 640x480 with 1 Axes>"
      ]
     },
     "metadata": {},
     "output_type": "display_data"
    }
   ],
   "source": [
    "import seaborn as sns\n",
    "%matplotlib inline\n",
    "\n",
    "# feature importance 추출\n",
    "print(\"Feature Importances:\\n{0}\\n\".format(np.round(dt_clf.feature_importances_, 3)))\n",
    "\n",
    "# feature 별 feature importance 매핑\n",
    "for name, value in zip(['encoded_code', 'duration_sum', 'code_count'], dt_clf.feature_importances_):\n",
    "    print('{0}: {1:.3f}'.format(name, value))\n",
    "    \n",
    "# feature importance 시각화\n",
    "g = sns.barplot(x=dt_clf.feature_importances_, y=['encoded_code', 'duration_sum', 'code_count'])\n",
    "g.set_xlabel('feature importance', size=10)\n",
    "g.set_ylabel('feature', size=10)"
   ]
  },
  {
   "cell_type": "code",
   "execution_count": 352,
   "id": "eed52eb7",
   "metadata": {},
   "outputs": [],
   "source": [
    "# export_graphviz( )의 호출 결과로 out_file로 지정된 tree.dot 파일을 생성함\n",
    "export_graphviz(dt_clf, out_file=\"tree_reduced3.dot\", class_names = ['low', 'high'], \n",
    "                           feature_names = ['encoded_code', 'encoded_duration', 'code_count'], impurity=True, filled=True)"
   ]
  },
  {
   "cell_type": "code",
   "execution_count": 355,
   "id": "4f05f2fb",
   "metadata": {},
   "outputs": [],
   "source": [
    "behavior.to_csv('./data/behavior_recuded_preprocessed.csv')"
   ]
  },
  {
   "cell_type": "code",
   "execution_count": null,
   "id": "524adeab",
   "metadata": {},
   "outputs": [],
   "source": []
  }
 ],
 "metadata": {
  "kernelspec": {
   "display_name": "Python 3 (ipykernel)",
   "language": "python",
   "name": "python3"
  },
  "language_info": {
   "codemirror_mode": {
    "name": "ipython",
    "version": 3
   },
   "file_extension": ".py",
   "mimetype": "text/x-python",
   "name": "python",
   "nbconvert_exporter": "python",
   "pygments_lexer": "ipython3",
   "version": "3.10.9"
  }
 },
 "nbformat": 4,
 "nbformat_minor": 5
}
